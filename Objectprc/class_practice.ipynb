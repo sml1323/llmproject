{
 "cells": [
  {
   "cell_type": "markdown",
   "id": "721d78a3",
   "metadata": {},
   "source": [
    "# 파이썬 클래스 구조 훈련 노트북\n",
    "\n",
    "이 노트북은 추상 클래스, 상속, 메서드 오버라이딩, LLM Wrapper 구조 연습을 위한 단계별 실습으로 구성되어 있습니다."
   ]
  },
  {
   "cell_type": "markdown",
   "id": "090926c7",
   "metadata": {},
   "source": [
    "## 1. 추상 클래스와 상속 기본\n",
    "\n",
    "- 추상 클래스(ABC)와 추상 메서드(@abstractmethod) 사용법을 익혀봅니다."
   ]
  },
  {
   "cell_type": "code",
   "execution_count": 2,
   "id": "4e2ed89f",
   "metadata": {},
   "outputs": [
    {
     "name": "stdout",
     "output_type": "stream",
     "text": [
      "멍멍!\n"
     ]
    }
   ],
   "source": [
    "from abc import ABC, abstractmethod\n",
    "\n",
    "class Animal(ABC):\n",
    "    @abstractmethod\n",
    "    def speak(self):\n",
    "        pass\n",
    "\n",
    "class Dog(Animal):\n",
    "    def speak(self):\n",
    "        print(\"멍멍!\")\n",
    "\n",
    "# 실습: Dog 클래스를 인스턴스화하고 speak()를 호출해보세요.\n",
    "dog = Dog()\n",
    "dog.speak()"
   ]
  },
  {
   "cell_type": "markdown",
   "id": "02208d1c",
   "metadata": {},
   "source": [
    "## 2. LLM_Wrapper 추상 클래스 설계\n",
    "\n",
    "- LLM_Wrapper 추상 클래스를 만들어보고, 필수 메서드와 속성을 정의해봅니다."
   ]
  },
  {
   "cell_type": "code",
   "execution_count": 3,
   "id": "52b1b886",
   "metadata": {},
   "outputs": [],
   "source": [
    "from abc import ABC, abstractmethod\n",
    "from collections.abc import MutableSequence\n",
    "from typing import TypedDict\n",
    "\n",
    "class LLM_Wrapper(ABC):\n",
    "    MessageEntry = TypedDict('MessageEntry', {'role': str, 'content': str})\n",
    "    system_prompt: str\n",
    "    user_prompt: str\n",
    "    temperature: float = 0.5\n",
    "    __msg: MutableSequence[MessageEntry]\n",
    "\n",
    "    def __init__(self, system_prompt, user_prompt, temperature=0.5):\n",
    "        self.system_prompt = system_prompt\n",
    "        self.user_prompt = user_prompt\n",
    "        self.temperature = temperature\n",
    "        self.__msg = []\n",
    "\n",
    "    def messageSet(self, message: MutableSequence[MessageEntry]):\n",
    "        self.__msg = message\n",
    "\n",
    "    def messageAppend(self, role: str, content: str):\n",
    "        self.__msg.append({\"role\": role, \"content\": content})\n",
    "\n",
    "    def messageGet(self) -> MutableSequence[MessageEntry]:\n",
    "        return self.__msg\n",
    "\n",
    "    @abstractmethod\n",
    "    def getResult(self):\n",
    "        pass"
   ]
  },
  {
   "cell_type": "markdown",
   "id": "e3bfab67",
   "metadata": {},
   "source": [
    "## 3. LLM_Wrapper 상속 클래스 연습\n",
    "\n",
    "- LLM_Wrapper를 상속받아 실제 LLM API를 흉내내는 클래스를 만들어봅니다."
   ]
  },
  {
   "cell_type": "code",
   "execution_count": 4,
   "id": "4278a7d4",
   "metadata": {},
   "outputs": [
    {
     "name": "stdout",
     "output_type": "stream",
     "text": [
      "assistant: 안녕하세요!\n"
     ]
    }
   ],
   "source": [
    "class FakeLLM_Wrapper(LLM_Wrapper):\n",
    "    def getResult(self):\n",
    "        # 실제 LLM 호출 대신 메시지 내용을 합쳐서 반환\n",
    "        messages = self.messageGet()\n",
    "        return '\\n'.join([f\"{m['role']}: {m['content']}\" for m in messages])\n",
    "\n",
    "# 실습: FakeLLM_Wrapper 인스턴스를 만들고 메시지를 추가한 뒤 getResult를 호출해보세요.\n",
    "wrapper = FakeLLM_Wrapper(\"시스템 프롬프트\", \"유저 프롬프트\")\n",
    "wrapper.messageAppend(\"assistant\", \"안녕하세요!\")\n",
    "print(wrapper.getResult())"
   ]
  },
  {
   "cell_type": "markdown",
   "id": "f4f14c92",
   "metadata": {},
   "source": [
    "## 4. 실제 LLM Wrapper 구조 연습\n",
    "\n",
    "- 실제로 OpenAI, Ollama, Claude, Gemini 등 다양한 래퍼 클래스를 만들어보고 싶다면, 위 구조를 참고해서 직접 만들어보세요.\n",
    "- 각 래퍼 클래스는 getResult 메서드에서 실제 API 호출 코드를 작성하면 됩니다.\n",
    "\n",
    "아래는 연습용 예시입니다."
   ]
  },
  {
   "cell_type": "code",
   "execution_count": 5,
   "id": "96dfa000",
   "metadata": {},
   "outputs": [
    {
     "name": "stdout",
     "output_type": "stream",
     "text": [
      "[OpenAI 응답] 오늘 날씨 어때?\n"
     ]
    }
   ],
   "source": [
    "# 예시: OpenAI 래퍼 클래스 구조 (실제 API 호출은 생략)\n",
    "class OpenAI_Wrapper(LLM_Wrapper):\n",
    "    def getResult(self):\n",
    "        # 실제로는 OpenAI API를 호출해야 함\n",
    "        return f\"[OpenAI 응답] {self.user_prompt}\"\n",
    "\n",
    "# 실습: OpenAI_Wrapper 인스턴스를 만들고 getResult를 호출해보세요.\n",
    "gpt = OpenAI_Wrapper(\"너는 친절한 챗봇이야.\", \"오늘 날씨 어때?\")\n",
    "print(gpt.getResult())"
   ]
  },
  {
   "cell_type": "code",
   "execution_count": null,
   "id": "dc3f830d",
   "metadata": {},
   "outputs": [],
   "source": []
  }
 ],
 "metadata": {
  "kernelspec": {
   "display_name": ".venv",
   "language": "python",
   "name": "python3"
  },
  "language_info": {
   "codemirror_mode": {
    "name": "ipython",
    "version": 3
   },
   "file_extension": ".py",
   "mimetype": "text/x-python",
   "name": "python",
   "nbconvert_exporter": "python",
   "pygments_lexer": "ipython3",
   "version": "3.11.0"
  }
 },
 "nbformat": 4,
 "nbformat_minor": 5
}
